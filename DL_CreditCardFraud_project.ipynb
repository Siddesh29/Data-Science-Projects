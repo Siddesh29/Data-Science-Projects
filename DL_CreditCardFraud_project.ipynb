{
  "nbformat": 4,
  "nbformat_minor": 0,
  "metadata": {
    "colab": {
      "provenance": []
    },
    "kernelspec": {
      "name": "python3",
      "display_name": "Python 3"
    },
    "language_info": {
      "name": "python"
    }
  },
  "cells": [
    {
      "cell_type": "code",
      "execution_count": 34,
      "metadata": {
        "id": "NvWTnk-DC31A"
      },
      "outputs": [],
      "source": [
        "#import required library\n",
        "import numpy as np\n",
        "import pandas as pd\n",
        "import matplotlib.pyplot as plt\n",
        "import seaborn as sb\n",
        "import warnings\n",
        "warnings.filterwarnings('ignore')"
      ]
    },
    {
      "cell_type": "code",
      "source": [
        "df=pd.read_csv('/content/drive/MyDrive/Machine_Learning/Project/creditcard (1).csv')\n",
        "df.head()"
      ],
      "metadata": {
        "colab": {
          "base_uri": "https://localhost:8080/",
          "height": 300
        },
        "id": "B2jcUv1iD8eA",
        "outputId": "bdcde732-eb42-4552-aaf5-c138de240b1b"
      },
      "execution_count": 35,
      "outputs": [
        {
          "output_type": "execute_result",
          "data": {
            "text/plain": [
              "   Time        V1        V2        V3        V4        V5        V6        V7  \\\n",
              "0   0.0 -1.359807 -0.072781  2.536347  1.378155 -0.338321  0.462388  0.239599   \n",
              "1   0.0  1.191857  0.266151  0.166480  0.448154  0.060018 -0.082361 -0.078803   \n",
              "2   1.0 -1.358354 -1.340163  1.773209  0.379780 -0.503198  1.800499  0.791461   \n",
              "3   1.0 -0.966272 -0.185226  1.792993 -0.863291 -0.010309  1.247203  0.237609   \n",
              "4   2.0 -1.158233  0.877737  1.548718  0.403034 -0.407193  0.095921  0.592941   \n",
              "\n",
              "         V8        V9  ...       V21       V22       V23       V24       V25  \\\n",
              "0  0.098698  0.363787  ... -0.018307  0.277838 -0.110474  0.066928  0.128539   \n",
              "1  0.085102 -0.255425  ... -0.225775 -0.638672  0.101288 -0.339846  0.167170   \n",
              "2  0.247676 -1.514654  ...  0.247998  0.771679  0.909412 -0.689281 -0.327642   \n",
              "3  0.377436 -1.387024  ... -0.108300  0.005274 -0.190321 -1.175575  0.647376   \n",
              "4 -0.270533  0.817739  ... -0.009431  0.798278 -0.137458  0.141267 -0.206010   \n",
              "\n",
              "        V26       V27       V28  Amount  Class  \n",
              "0 -0.189115  0.133558 -0.021053  149.62      0  \n",
              "1  0.125895 -0.008983  0.014724    2.69      0  \n",
              "2 -0.139097 -0.055353 -0.059752  378.66      0  \n",
              "3 -0.221929  0.062723  0.061458  123.50      0  \n",
              "4  0.502292  0.219422  0.215153   69.99      0  \n",
              "\n",
              "[5 rows x 31 columns]"
            ],
            "text/html": [
              "\n",
              "  <div id=\"df-fb9269ee-c547-49bf-9b83-35fcdaed7bfd\">\n",
              "    <div class=\"colab-df-container\">\n",
              "      <div>\n",
              "<style scoped>\n",
              "    .dataframe tbody tr th:only-of-type {\n",
              "        vertical-align: middle;\n",
              "    }\n",
              "\n",
              "    .dataframe tbody tr th {\n",
              "        vertical-align: top;\n",
              "    }\n",
              "\n",
              "    .dataframe thead th {\n",
              "        text-align: right;\n",
              "    }\n",
              "</style>\n",
              "<table border=\"1\" class=\"dataframe\">\n",
              "  <thead>\n",
              "    <tr style=\"text-align: right;\">\n",
              "      <th></th>\n",
              "      <th>Time</th>\n",
              "      <th>V1</th>\n",
              "      <th>V2</th>\n",
              "      <th>V3</th>\n",
              "      <th>V4</th>\n",
              "      <th>V5</th>\n",
              "      <th>V6</th>\n",
              "      <th>V7</th>\n",
              "      <th>V8</th>\n",
              "      <th>V9</th>\n",
              "      <th>...</th>\n",
              "      <th>V21</th>\n",
              "      <th>V22</th>\n",
              "      <th>V23</th>\n",
              "      <th>V24</th>\n",
              "      <th>V25</th>\n",
              "      <th>V26</th>\n",
              "      <th>V27</th>\n",
              "      <th>V28</th>\n",
              "      <th>Amount</th>\n",
              "      <th>Class</th>\n",
              "    </tr>\n",
              "  </thead>\n",
              "  <tbody>\n",
              "    <tr>\n",
              "      <th>0</th>\n",
              "      <td>0.0</td>\n",
              "      <td>-1.359807</td>\n",
              "      <td>-0.072781</td>\n",
              "      <td>2.536347</td>\n",
              "      <td>1.378155</td>\n",
              "      <td>-0.338321</td>\n",
              "      <td>0.462388</td>\n",
              "      <td>0.239599</td>\n",
              "      <td>0.098698</td>\n",
              "      <td>0.363787</td>\n",
              "      <td>...</td>\n",
              "      <td>-0.018307</td>\n",
              "      <td>0.277838</td>\n",
              "      <td>-0.110474</td>\n",
              "      <td>0.066928</td>\n",
              "      <td>0.128539</td>\n",
              "      <td>-0.189115</td>\n",
              "      <td>0.133558</td>\n",
              "      <td>-0.021053</td>\n",
              "      <td>149.62</td>\n",
              "      <td>0</td>\n",
              "    </tr>\n",
              "    <tr>\n",
              "      <th>1</th>\n",
              "      <td>0.0</td>\n",
              "      <td>1.191857</td>\n",
              "      <td>0.266151</td>\n",
              "      <td>0.166480</td>\n",
              "      <td>0.448154</td>\n",
              "      <td>0.060018</td>\n",
              "      <td>-0.082361</td>\n",
              "      <td>-0.078803</td>\n",
              "      <td>0.085102</td>\n",
              "      <td>-0.255425</td>\n",
              "      <td>...</td>\n",
              "      <td>-0.225775</td>\n",
              "      <td>-0.638672</td>\n",
              "      <td>0.101288</td>\n",
              "      <td>-0.339846</td>\n",
              "      <td>0.167170</td>\n",
              "      <td>0.125895</td>\n",
              "      <td>-0.008983</td>\n",
              "      <td>0.014724</td>\n",
              "      <td>2.69</td>\n",
              "      <td>0</td>\n",
              "    </tr>\n",
              "    <tr>\n",
              "      <th>2</th>\n",
              "      <td>1.0</td>\n",
              "      <td>-1.358354</td>\n",
              "      <td>-1.340163</td>\n",
              "      <td>1.773209</td>\n",
              "      <td>0.379780</td>\n",
              "      <td>-0.503198</td>\n",
              "      <td>1.800499</td>\n",
              "      <td>0.791461</td>\n",
              "      <td>0.247676</td>\n",
              "      <td>-1.514654</td>\n",
              "      <td>...</td>\n",
              "      <td>0.247998</td>\n",
              "      <td>0.771679</td>\n",
              "      <td>0.909412</td>\n",
              "      <td>-0.689281</td>\n",
              "      <td>-0.327642</td>\n",
              "      <td>-0.139097</td>\n",
              "      <td>-0.055353</td>\n",
              "      <td>-0.059752</td>\n",
              "      <td>378.66</td>\n",
              "      <td>0</td>\n",
              "    </tr>\n",
              "    <tr>\n",
              "      <th>3</th>\n",
              "      <td>1.0</td>\n",
              "      <td>-0.966272</td>\n",
              "      <td>-0.185226</td>\n",
              "      <td>1.792993</td>\n",
              "      <td>-0.863291</td>\n",
              "      <td>-0.010309</td>\n",
              "      <td>1.247203</td>\n",
              "      <td>0.237609</td>\n",
              "      <td>0.377436</td>\n",
              "      <td>-1.387024</td>\n",
              "      <td>...</td>\n",
              "      <td>-0.108300</td>\n",
              "      <td>0.005274</td>\n",
              "      <td>-0.190321</td>\n",
              "      <td>-1.175575</td>\n",
              "      <td>0.647376</td>\n",
              "      <td>-0.221929</td>\n",
              "      <td>0.062723</td>\n",
              "      <td>0.061458</td>\n",
              "      <td>123.50</td>\n",
              "      <td>0</td>\n",
              "    </tr>\n",
              "    <tr>\n",
              "      <th>4</th>\n",
              "      <td>2.0</td>\n",
              "      <td>-1.158233</td>\n",
              "      <td>0.877737</td>\n",
              "      <td>1.548718</td>\n",
              "      <td>0.403034</td>\n",
              "      <td>-0.407193</td>\n",
              "      <td>0.095921</td>\n",
              "      <td>0.592941</td>\n",
              "      <td>-0.270533</td>\n",
              "      <td>0.817739</td>\n",
              "      <td>...</td>\n",
              "      <td>-0.009431</td>\n",
              "      <td>0.798278</td>\n",
              "      <td>-0.137458</td>\n",
              "      <td>0.141267</td>\n",
              "      <td>-0.206010</td>\n",
              "      <td>0.502292</td>\n",
              "      <td>0.219422</td>\n",
              "      <td>0.215153</td>\n",
              "      <td>69.99</td>\n",
              "      <td>0</td>\n",
              "    </tr>\n",
              "  </tbody>\n",
              "</table>\n",
              "<p>5 rows × 31 columns</p>\n",
              "</div>\n",
              "      <button class=\"colab-df-convert\" onclick=\"convertToInteractive('df-fb9269ee-c547-49bf-9b83-35fcdaed7bfd')\"\n",
              "              title=\"Convert this dataframe to an interactive table.\"\n",
              "              style=\"display:none;\">\n",
              "        \n",
              "  <svg xmlns=\"http://www.w3.org/2000/svg\" height=\"24px\"viewBox=\"0 0 24 24\"\n",
              "       width=\"24px\">\n",
              "    <path d=\"M0 0h24v24H0V0z\" fill=\"none\"/>\n",
              "    <path d=\"M18.56 5.44l.94 2.06.94-2.06 2.06-.94-2.06-.94-.94-2.06-.94 2.06-2.06.94zm-11 1L8.5 8.5l.94-2.06 2.06-.94-2.06-.94L8.5 2.5l-.94 2.06-2.06.94zm10 10l.94 2.06.94-2.06 2.06-.94-2.06-.94-.94-2.06-.94 2.06-2.06.94z\"/><path d=\"M17.41 7.96l-1.37-1.37c-.4-.4-.92-.59-1.43-.59-.52 0-1.04.2-1.43.59L10.3 9.45l-7.72 7.72c-.78.78-.78 2.05 0 2.83L4 21.41c.39.39.9.59 1.41.59.51 0 1.02-.2 1.41-.59l7.78-7.78 2.81-2.81c.8-.78.8-2.07 0-2.86zM5.41 20L4 18.59l7.72-7.72 1.47 1.35L5.41 20z\"/>\n",
              "  </svg>\n",
              "      </button>\n",
              "      \n",
              "  <style>\n",
              "    .colab-df-container {\n",
              "      display:flex;\n",
              "      flex-wrap:wrap;\n",
              "      gap: 12px;\n",
              "    }\n",
              "\n",
              "    .colab-df-convert {\n",
              "      background-color: #E8F0FE;\n",
              "      border: none;\n",
              "      border-radius: 50%;\n",
              "      cursor: pointer;\n",
              "      display: none;\n",
              "      fill: #1967D2;\n",
              "      height: 32px;\n",
              "      padding: 0 0 0 0;\n",
              "      width: 32px;\n",
              "    }\n",
              "\n",
              "    .colab-df-convert:hover {\n",
              "      background-color: #E2EBFA;\n",
              "      box-shadow: 0px 1px 2px rgba(60, 64, 67, 0.3), 0px 1px 3px 1px rgba(60, 64, 67, 0.15);\n",
              "      fill: #174EA6;\n",
              "    }\n",
              "\n",
              "    [theme=dark] .colab-df-convert {\n",
              "      background-color: #3B4455;\n",
              "      fill: #D2E3FC;\n",
              "    }\n",
              "\n",
              "    [theme=dark] .colab-df-convert:hover {\n",
              "      background-color: #434B5C;\n",
              "      box-shadow: 0px 1px 3px 1px rgba(0, 0, 0, 0.15);\n",
              "      filter: drop-shadow(0px 1px 2px rgba(0, 0, 0, 0.3));\n",
              "      fill: #FFFFFF;\n",
              "    }\n",
              "  </style>\n",
              "\n",
              "      <script>\n",
              "        const buttonEl =\n",
              "          document.querySelector('#df-fb9269ee-c547-49bf-9b83-35fcdaed7bfd button.colab-df-convert');\n",
              "        buttonEl.style.display =\n",
              "          google.colab.kernel.accessAllowed ? 'block' : 'none';\n",
              "\n",
              "        async function convertToInteractive(key) {\n",
              "          const element = document.querySelector('#df-fb9269ee-c547-49bf-9b83-35fcdaed7bfd');\n",
              "          const dataTable =\n",
              "            await google.colab.kernel.invokeFunction('convertToInteractive',\n",
              "                                                     [key], {});\n",
              "          if (!dataTable) return;\n",
              "\n",
              "          const docLinkHtml = 'Like what you see? Visit the ' +\n",
              "            '<a target=\"_blank\" href=https://colab.research.google.com/notebooks/data_table.ipynb>data table notebook</a>'\n",
              "            + ' to learn more about interactive tables.';\n",
              "          element.innerHTML = '';\n",
              "          dataTable['output_type'] = 'display_data';\n",
              "          await google.colab.output.renderOutput(dataTable, element);\n",
              "          const docLink = document.createElement('div');\n",
              "          docLink.innerHTML = docLinkHtml;\n",
              "          element.appendChild(docLink);\n",
              "        }\n",
              "      </script>\n",
              "    </div>\n",
              "  </div>\n",
              "  "
            ]
          },
          "metadata": {},
          "execution_count": 35
        }
      ]
    },
    {
      "cell_type": "code",
      "source": [
        "#check size of the dataset\n",
        "df.shape"
      ],
      "metadata": {
        "colab": {
          "base_uri": "https://localhost:8080/"
        },
        "id": "5HtgqU4vD8hY",
        "outputId": "5dd35532-aed9-4492-99fd-4f855e18af5f"
      },
      "execution_count": 36,
      "outputs": [
        {
          "output_type": "execute_result",
          "data": {
            "text/plain": [
              "(284807, 31)"
            ]
          },
          "metadata": {},
          "execution_count": 36
        }
      ]
    },
    {
      "cell_type": "code",
      "source": [
        "#check null values\n",
        "df.isnull().sum()"
      ],
      "metadata": {
        "colab": {
          "base_uri": "https://localhost:8080/"
        },
        "id": "YHHG5s6ED8kh",
        "outputId": "00e6feb9-91a7-47f3-a0af-dcc40b9eb0b7"
      },
      "execution_count": 37,
      "outputs": [
        {
          "output_type": "execute_result",
          "data": {
            "text/plain": [
              "Time      0\n",
              "V1        0\n",
              "V2        0\n",
              "V3        0\n",
              "V4        0\n",
              "V5        0\n",
              "V6        0\n",
              "V7        0\n",
              "V8        0\n",
              "V9        0\n",
              "V10       0\n",
              "V11       0\n",
              "V12       0\n",
              "V13       0\n",
              "V14       0\n",
              "V15       0\n",
              "V16       0\n",
              "V17       0\n",
              "V18       0\n",
              "V19       0\n",
              "V20       0\n",
              "V21       0\n",
              "V22       0\n",
              "V23       0\n",
              "V24       0\n",
              "V25       0\n",
              "V26       0\n",
              "V27       0\n",
              "V28       0\n",
              "Amount    0\n",
              "Class     0\n",
              "dtype: int64"
            ]
          },
          "metadata": {},
          "execution_count": 37
        }
      ]
    },
    {
      "cell_type": "code",
      "source": [
        "#cross check null values with data type\n",
        "df.dtypes"
      ],
      "metadata": {
        "colab": {
          "base_uri": "https://localhost:8080/"
        },
        "id": "ZOVk1zu2D8ou",
        "outputId": "9aa773f6-a418-4d6c-f9a0-9c8abe4c8259"
      },
      "execution_count": 38,
      "outputs": [
        {
          "output_type": "execute_result",
          "data": {
            "text/plain": [
              "Time      float64\n",
              "V1        float64\n",
              "V2        float64\n",
              "V3        float64\n",
              "V4        float64\n",
              "V5        float64\n",
              "V6        float64\n",
              "V7        float64\n",
              "V8        float64\n",
              "V9        float64\n",
              "V10       float64\n",
              "V11       float64\n",
              "V12       float64\n",
              "V13       float64\n",
              "V14       float64\n",
              "V15       float64\n",
              "V16       float64\n",
              "V17       float64\n",
              "V18       float64\n",
              "V19       float64\n",
              "V20       float64\n",
              "V21       float64\n",
              "V22       float64\n",
              "V23       float64\n",
              "V24       float64\n",
              "V25       float64\n",
              "V26       float64\n",
              "V27       float64\n",
              "V28       float64\n",
              "Amount    float64\n",
              "Class       int64\n",
              "dtype: object"
            ]
          },
          "metadata": {},
          "execution_count": 38
        }
      ]
    },
    {
      "cell_type": "code",
      "source": [
        "#visualize null values\n",
        "sb.heatmap(df.isnull())\n",
        "plt.show()"
      ],
      "metadata": {
        "colab": {
          "base_uri": "https://localhost:8080/",
          "height": 287
        },
        "id": "yL1xBmIrD8rh",
        "outputId": "1485d13c-d7f1-45f6-ea80-8b07359ae75e"
      },
      "execution_count": 39,
      "outputs": [
        {
          "output_type": "display_data",
          "data": {
            "text/plain": [
              "<Figure size 432x288 with 2 Axes>"
            ],
            "image/png": "[encoded data removed]"
          },
          "metadata": {
            "needs_background": "light"
          }
        }
      ]
    },
    {
      "cell_type": "code",
      "source": [
        "#check for duplicate values\n",
        "df.duplicated().sum()"
      ],
      "metadata": {
        "colab": {
          "base_uri": "https://localhost:8080/"
        },
        "id": "Pmv8qhdtEug3",
        "outputId": "8f4a5ff3-10fd-4472-c0bb-c8e114bd93d3"
      },
      "execution_count": 40,
      "outputs": [
        {
          "output_type": "execute_result",
          "data": {
            "text/plain": [
              "1081"
            ]
          },
          "metadata": {},
          "execution_count": 40
        }
      ]
    },
    {
      "cell_type": "code",
      "source": [
        "#check for data balancing\n",
        "df['Class'].value_counts()"
      ],
      "metadata": {
        "colab": {
          "base_uri": "https://localhost:8080/"
        },
        "id": "GWBQr4SoEuje",
        "outputId": "5770fd1a-651e-40fa-b745-c5330644bdf3"
      },
      "execution_count": 41,
      "outputs": [
        {
          "output_type": "execute_result",
          "data": {
            "text/plain": [
              "0    284315\n",
              "1       492\n",
              "Name: Class, dtype: int64"
            ]
          },
          "metadata": {},
          "execution_count": 41
        }
      ]
    },
    {
      "cell_type": "code",
      "source": [
        "#Visualize data balancing\n",
        "sb.countplot(data=df,x='Class')\n",
        "f=df['Class'].value_counts()\n",
        "plt.yticks(f)\n",
        "plt.show()"
      ],
      "metadata": {
        "colab": {
          "base_uri": "https://localhost:8080/",
          "height": 279
        },
        "id": "AtlblGO1EumX",
        "outputId": "92f839a4-31f2-4199-d911-5ffbc595093e"
      },
      "execution_count": 42,
      "outputs": [
        {
          "output_type": "display_data",
          "data": {
            "text/plain": [
              "<Figure size 432x288 with 1 Axes>"
            ],
            "image/png": "[encoded data removed]"
          },
          "metadata": {
            "needs_background": "light"
          }
        }
      ]
    },
    {
      "cell_type": "code",
      "source": [
        "#here we the data is unbalanced, so we need to balance the data\n",
        "#Firstly we select the input and output\n",
        "X=df[['Time','Amount']]\n",
        "Y=df['Class']"
      ],
      "metadata": {
        "id": "-Yy5ZmR_Euo0"
      },
      "execution_count": 43,
      "outputs": []
    },
    {
      "cell_type": "code",
      "source": [
        "#Split the data\n",
        "from sklearn.model_selection import train_test_split\n",
        "X_train,X_test,Y_train,Y_test=train_test_split(X,Y,test_size=0.3,random_state=1)"
      ],
      "metadata": {
        "id": "7IcptfSYEurk"
      },
      "execution_count": 44,
      "outputs": []
    },
    {
      "cell_type": "code",
      "source": [
        "#check training data size\n",
        "X_train.shape,Y_train.shape"
      ],
      "metadata": {
        "colab": {
          "base_uri": "https://localhost:8080/"
        },
        "id": "OJJ1-T0LEuue",
        "outputId": "19092483-cd6e-4f3c-ede7-4fd8ac1638ff"
      },
      "execution_count": 45,
      "outputs": [
        {
          "output_type": "execute_result",
          "data": {
            "text/plain": [
              "((199364, 2), (199364,))"
            ]
          },
          "metadata": {},
          "execution_count": 45
        }
      ]
    },
    {
      "cell_type": "code",
      "source": [
        "#check testing data size\n",
        "X_test.shape,Y_test.shape"
      ],
      "metadata": {
        "colab": {
          "base_uri": "https://localhost:8080/"
        },
        "id": "dkt-bqh5Euw0",
        "outputId": "36c26a67-4291-40f6-ae49-9eb19a44146c"
      },
      "execution_count": 46,
      "outputs": [
        {
          "output_type": "execute_result",
          "data": {
            "text/plain": [
              "((85443, 2), (85443,))"
            ]
          },
          "metadata": {},
          "execution_count": 46
        }
      ]
    },
    {
      "cell_type": "code",
      "source": [
        "#check data balancing of testing output data\n",
        "Y_test.value_counts()"
      ],
      "metadata": {
        "colab": {
          "base_uri": "https://localhost:8080/"
        },
        "id": "p1HW4CA9Eu0E",
        "outputId": "5fa5f1a9-ad3c-4ae8-b82f-00658d76143e"
      },
      "execution_count": 47,
      "outputs": [
        {
          "output_type": "execute_result",
          "data": {
            "text/plain": [
              "0    85308\n",
              "1      135\n",
              "Name: Class, dtype: int64"
            ]
          },
          "metadata": {},
          "execution_count": 47
        }
      ]
    },
    {
      "cell_type": "code",
      "source": [
        "#apply standard scaler\n",
        "from sklearn.preprocessing import StandardScaler\n",
        "ss=StandardScaler()"
      ],
      "metadata": {
        "id": "FsB9pkakEu3t"
      },
      "execution_count": 48,
      "outputs": []
    },
    {
      "cell_type": "code",
      "source": [
        "#apply scaling on input\n",
        "X_train=ss.fit_transform(X_train)\n",
        "X_test=ss.transform(X_test)"
      ],
      "metadata": {
        "id": "5Te-BjNQGxhy"
      },
      "execution_count": 49,
      "outputs": []
    },
    {
      "cell_type": "code",
      "source": [
        "#Now we perform data balancing\n",
        "from imblearn.over_sampling import RandomOverSampler\n",
        "ros=RandomOverSampler()"
      ],
      "metadata": {
        "id": "-e6IleUIGxkk"
      },
      "execution_count": 50,
      "outputs": []
    },
    {
      "cell_type": "code",
      "source": [
        "#apply data balancing on training and testing data\n",
        "X_train1,Y_train1=ros.fit_resample(X_train,Y_train)\n",
        "X_test1,Y_test1=ros.fit_resample(X_test,Y_test)"
      ],
      "metadata": {
        "id": "27FKxLrtGxnU"
      },
      "execution_count": 51,
      "outputs": []
    },
    {
      "cell_type": "code",
      "source": [
        "#check data balancing\n",
        "Y_test1.value_counts()"
      ],
      "metadata": {
        "colab": {
          "base_uri": "https://localhost:8080/"
        },
        "id": "xGup1zPzGxpq",
        "outputId": "b734b233-bbce-4b1b-e9ab-ad8a8181b7de"
      },
      "execution_count": 52,
      "outputs": [
        {
          "output_type": "execute_result",
          "data": {
            "text/plain": [
              "0    85308\n",
              "1    85308\n",
              "Name: Class, dtype: int64"
            ]
          },
          "metadata": {},
          "execution_count": 52
        }
      ]
    },
    {
      "cell_type": "code",
      "source": [
        "Y_train1.value_counts()"
      ],
      "metadata": {
        "colab": {
          "base_uri": "https://localhost:8080/"
        },
        "id": "XLvifE2VGxsQ",
        "outputId": "8713abac-df67-4e58-c445-83251234344b"
      },
      "execution_count": 53,
      "outputs": [
        {
          "output_type": "execute_result",
          "data": {
            "text/plain": [
              "0    199007\n",
              "1    199007\n",
              "Name: Class, dtype: int64"
            ]
          },
          "metadata": {},
          "execution_count": 53
        }
      ]
    },
    {
      "cell_type": "code",
      "source": [
        "#create neural network\n",
        "import tensorflow as tf\n",
        "model=tf.keras.Sequential([\n",
        "    #firt hidden layer\n",
        "    tf.keras.layers.Dense(units=64,activation='relu',input_shape=(X.shape[1],)),\n",
        "    #second hidden layer\n",
        "    tf.keras.layers.Dense(units=32,activation='relu'),\n",
        "    #third hidden layer\n",
        "    tf.keras.layers.Dense(units=16,activation='relu'),\n",
        "    #fouth hidden layer\n",
        "    tf.keras.layers.Dense(units=8,activation='relu'),\n",
        "    #output layer\n",
        "    tf.keras.layers.Dense(units=1,activation='sigmoid')\n",
        "])"
      ],
      "metadata": {
        "id": "5ACRA7ArGxui"
      },
      "execution_count": 54,
      "outputs": []
    },
    {
      "cell_type": "code",
      "source": [
        "#check model summary\n",
        "model.summary()"
      ],
      "metadata": {
        "colab": {
          "base_uri": "https://localhost:8080/"
        },
        "id": "GD15aB_HGxxE",
        "outputId": "6115ea1a-2c19-41b0-f6bc-602c1b297cbb"
      },
      "execution_count": 55,
      "outputs": [
        {
          "output_type": "stream",
          "name": "stdout",
          "text": [
            "Model: \"sequential_1\"\n",
            "_________________________________________________________________\n",
            " Layer (type)                Output Shape              Param #   \n",
            "=================================================================\n",
            " dense_5 (Dense)             (None, 64)                192       \n",
            "                                                                 \n",
            " dense_6 (Dense)             (None, 32)                2080      \n",
            "                                                                 \n",
            " dense_7 (Dense)             (None, 16)                528       \n",
            "                                                                 \n",
            " dense_8 (Dense)             (None, 8)                 136       \n",
            "                                                                 \n",
            " dense_9 (Dense)             (None, 1)                 9         \n",
            "                                                                 \n",
            "=================================================================\n",
            "Total params: 2,945\n",
            "Trainable params: 2,945\n",
            "Non-trainable params: 0\n",
            "_________________________________________________________________\n"
          ]
        }
      ]
    },
    {
      "cell_type": "code",
      "source": [
        "#compile the model\n",
        "model.compile(optimizer='adam',loss='binary_crossentropy',metrics=['accuracy'])"
      ],
      "metadata": {
        "id": "Ln1secbGGxzw"
      },
      "execution_count": 56,
      "outputs": []
    },
    {
      "cell_type": "code",
      "source": [
        "#create a procedure for early stopping \n",
        "#call inbuilt class : EarlyStopping \n",
        "from tensorflow.keras.callbacks import EarlyStopping\n",
        "#create object of EarlyStopping class\n",
        "cb=EarlyStopping(monitor='val_loss',min_delta=0.00001,patience=20,\n",
        "                 verbose=1,mode='auto',baseline=None,restore_best_weights=False\n",
        "\n",
        ")"
      ],
      "metadata": {
        "id": "zwqbcFGfKqWM"
      },
      "execution_count": 57,
      "outputs": []
    },
    {
      "cell_type": "code",
      "source": [
        "#train the model\n",
        "trained_model=model.fit(X_train1,Y_train1,epochs=5000,validation_data=(X_test1,Y_test1),batch_size=64,callbacks=cb)"
      ],
      "metadata": {
        "colab": {
          "base_uri": "https://localhost:8080/"
        },
        "id": "7eMSgRE7Kqbk",
        "outputId": "5ae9c5ff-c07d-4bc9-c904-c7dd0b912bf9"
      },
      "execution_count": 58,
      "outputs": [
        {
          "output_type": "stream",
          "name": "stdout",
          "text": [
            "Epoch 1/5000\n",
            "6219/6219 [==============================] - 20s 3ms/step - loss: 0.5677 - accuracy: 0.7073 - val_loss: 0.6604 - val_accuracy: 0.6613\n",
            "Epoch 2/5000\n",
            "6219/6219 [==============================] - 17s 3ms/step - loss: 0.5124 - accuracy: 0.7465 - val_loss: 0.6372 - val_accuracy: 0.6727\n",
            "Epoch 3/5000\n",
            "6219/6219 [==============================] - 19s 3ms/step - loss: 0.4960 - accuracy: 0.7541 - val_loss: 0.6990 - val_accuracy: 0.6812\n",
            "Epoch 4/5000\n",
            "6219/6219 [==============================] - 21s 3ms/step - loss: 0.4802 - accuracy: 0.7621 - val_loss: 0.7548 - val_accuracy: 0.6512\n",
            "Epoch 5/5000\n",
            "6219/6219 [==============================] - 17s 3ms/step - loss: 0.4671 - accuracy: 0.7709 - val_loss: 0.8208 - val_accuracy: 0.6514\n",
            "Epoch 6/5000\n",
            "6219/6219 [==============================] - 33s 5ms/step - loss: 0.4544 - accuracy: 0.7785 - val_loss: 0.9164 - val_accuracy: 0.6876\n",
            "Epoch 7/5000\n",
            "6219/6219 [==============================] - 23s 4ms/step - loss: 0.4426 - accuracy: 0.7841 - val_loss: 1.0226 - val_accuracy: 0.6415\n",
            "Epoch 8/5000\n",
            "6219/6219 [==============================] - 21s 3ms/step - loss: 0.4315 - accuracy: 0.7895 - val_loss: 1.3552 - val_accuracy: 0.6580\n",
            "Epoch 9/5000\n",
            "6219/6219 [==============================] - 20s 3ms/step - loss: 0.4199 - accuracy: 0.7950 - val_loss: 1.2756 - val_accuracy: 0.6747\n",
            "Epoch 10/5000\n",
            "6219/6219 [==============================] - 22s 4ms/step - loss: 0.4103 - accuracy: 0.7993 - val_loss: 1.4658 - val_accuracy: 0.6518\n",
            "Epoch 11/5000\n",
            "6219/6219 [==============================] - 26s 4ms/step - loss: 0.4018 - accuracy: 0.8060 - val_loss: 1.5357 - val_accuracy: 0.6744\n",
            "Epoch 12/5000\n",
            "6219/6219 [==============================] - 20s 3ms/step - loss: 0.3954 - accuracy: 0.8102 - val_loss: 1.6234 - val_accuracy: 0.6644\n",
            "Epoch 13/5000\n",
            "6219/6219 [==============================] - 24s 4ms/step - loss: 0.3889 - accuracy: 0.8138 - val_loss: 1.7974 - val_accuracy: 0.6538\n",
            "Epoch 14/5000\n",
            "6219/6219 [==============================] - 25s 4ms/step - loss: 0.3834 - accuracy: 0.8181 - val_loss: 1.8992 - val_accuracy: 0.6569\n",
            "Epoch 15/5000\n",
            "6219/6219 [==============================] - 28s 5ms/step - loss: 0.3782 - accuracy: 0.8210 - val_loss: 2.0579 - val_accuracy: 0.6591\n",
            "Epoch 16/5000\n",
            "6219/6219 [==============================] - 17s 3ms/step - loss: 0.3742 - accuracy: 0.8248 - val_loss: 2.2658 - val_accuracy: 0.6549\n",
            "Epoch 17/5000\n",
            "6219/6219 [==============================] - 19s 3ms/step - loss: 0.3696 - accuracy: 0.8278 - val_loss: 2.3163 - val_accuracy: 0.6795\n",
            "Epoch 18/5000\n",
            "6219/6219 [==============================] - 17s 3ms/step - loss: 0.3641 - accuracy: 0.8308 - val_loss: 2.1336 - val_accuracy: 0.6622\n",
            "Epoch 19/5000\n",
            "6219/6219 [==============================] - 19s 3ms/step - loss: 0.3611 - accuracy: 0.8342 - val_loss: 2.5835 - val_accuracy: 0.6605\n",
            "Epoch 20/5000\n",
            "6219/6219 [==============================] - 17s 3ms/step - loss: 0.3581 - accuracy: 0.8356 - val_loss: 2.3284 - val_accuracy: 0.6758\n",
            "Epoch 21/5000\n",
            "6219/6219 [==============================] - 19s 3ms/step - loss: 0.3544 - accuracy: 0.8381 - val_loss: 2.0900 - val_accuracy: 0.6559\n",
            "Epoch 22/5000\n",
            "6219/6219 [==============================] - 19s 3ms/step - loss: 0.3501 - accuracy: 0.8399 - val_loss: 2.7476 - val_accuracy: 0.6687\n",
            "Epoch 22: early stopping\n"
          ]
        }
      ]
    },
    {
      "cell_type": "code",
      "source": [
        "#visualisation for loss of training and testing\n",
        "plt.plot(trained_model.history['loss'],label='Training Loss')\n",
        "plt.plot(trained_model.history['val_loss'],label='Testing Loss')\n",
        "plt.xlabel('Epochs')\n",
        "plt.ylabel('Binary crossentropy Error')\n",
        "plt.legend()\n",
        "plt.show()"
      ],
      "metadata": {
        "colab": {
          "base_uri": "https://localhost:8080/",
          "height": 279
        },
        "id": "aAhQh6HdKqeZ",
        "outputId": "a7768bc1-c504-46f3-80bc-a1bde857c6fd"
      },
      "execution_count": 59,
      "outputs": [
        {
          "output_type": "display_data",
          "data": {
            "text/plain": [
              "<Figure size 432x288 with 1 Axes>"
            ],
            "image/png": "[encoded data removed]"
          },
          "metadata": {
            "needs_background": "light"
          }
        }
      ]
    },
    {
      "cell_type": "code",
      "source": [
        "#visualisation for accuracy of training and testing\n",
        "plt.plot(trained_model.history['accuracy'],label='Training Loss')\n",
        "plt.plot(trained_model.history['val_accuracy'],label='Testing Loss')\n",
        "plt.xlabel('Epochs')\n",
        "plt.ylabel('Accuracy')\n",
        "plt.legend()\n",
        "plt.show()"
      ],
      "metadata": {
        "colab": {
          "base_uri": "https://localhost:8080/",
          "height": 279
        },
        "id": "hwlX4gvSMy3_",
        "outputId": "3200eabc-ace2-4d43-c040-634962185446"
      },
      "execution_count": 60,
      "outputs": [
        {
          "output_type": "display_data",
          "data": {
            "text/plain": [
              "<Figure size 432x288 with 1 Axes>"
            ],
            "image/png": "[encoded data removed]"
          },
          "metadata": {
            "needs_background": "light"
          }
        }
      ]
    },
    {
      "cell_type": "code",
      "source": [
        "#Here we see that model is overfit\n",
        "#Handle overfitting using dropout\n",
        "#dropout range between 20% to 50%\n",
        "#create neaural network \n",
        "import tensorflow as tf\n",
        "from tensorflow.keras.layers import Dropout\n",
        "#create object of Sequential class\n",
        "model1=tf.keras.Sequential([\n",
        "    #first hidden layer \n",
        "    tf.keras.layers.Dense(units=64,activation='relu',input_shape=(X.shape[1],)),Dropout(0.30),\n",
        "    #second hidden layer\n",
        "    tf.keras.layers.Dense(units=32,activation='relu'),Dropout(0.30),\n",
        "    #Third hidden layer\n",
        "    tf.keras.layers.Dense(units=16,activation='relu'),Dropout(0.30),\n",
        "    #fourth hidden layer\n",
        "    tf.keras.layers.Dense(units=8,activation='relu'),\n",
        "    #output layer \n",
        "    tf.keras.layers.Dense(units=1,activation='sigmoid')\n",
        "])"
      ],
      "metadata": {
        "id": "xTY0cB2OMy69"
      },
      "execution_count": 61,
      "outputs": []
    },
    {
      "cell_type": "code",
      "source": [
        "#compile the model\n",
        "model1.compile(optimizer='adam',loss='binary_crossentropy',metrics=['accuracy'])"
      ],
      "metadata": {
        "id": "75KYjg58My9w"
      },
      "execution_count": 62,
      "outputs": []
    },
    {
      "cell_type": "code",
      "source": [
        "#train the model\n",
        "trained_model1=model1.fit(X_train1,Y_train1,epochs=5000,validation_data=(X_test1,Y_test1),batch_size=64,callbacks=cb)"
      ],
      "metadata": {
        "colab": {
          "base_uri": "https://localhost:8080/"
        },
        "id": "XzdsrDOaMzAG",
        "outputId": "ff9661d6-1f47-4391-b1af-c7120a41f056"
      },
      "execution_count": 63,
      "outputs": [
        {
          "output_type": "stream",
          "name": "stdout",
          "text": [
            "Epoch 1/5000\n",
            "6219/6219 [==============================] - 20s 3ms/step - loss: 0.6362 - accuracy: 0.6417 - val_loss: 0.6190 - val_accuracy: 0.6631\n",
            "Epoch 2/5000\n",
            "6219/6219 [==============================] - 18s 3ms/step - loss: 0.5808 - accuracy: 0.7043 - val_loss: 0.6173 - val_accuracy: 0.6836\n",
            "Epoch 3/5000\n",
            "6219/6219 [==============================] - 19s 3ms/step - loss: 0.5655 - accuracy: 0.7156 - val_loss: 0.6116 - val_accuracy: 0.6876\n",
            "Epoch 4/5000\n",
            "6219/6219 [==============================] - 21s 3ms/step - loss: 0.5591 - accuracy: 0.7202 - val_loss: 0.6163 - val_accuracy: 0.6743\n",
            "Epoch 5/5000\n",
            "6219/6219 [==============================] - 21s 3ms/step - loss: 0.5560 - accuracy: 0.7215 - val_loss: 0.6323 - val_accuracy: 0.6721\n",
            "Epoch 6/5000\n",
            "6219/6219 [==============================] - 26s 4ms/step - loss: 0.5520 - accuracy: 0.7237 - val_loss: 0.6202 - val_accuracy: 0.6781\n",
            "Epoch 7/5000\n",
            "6219/6219 [==============================] - 25s 4ms/step - loss: 0.5512 - accuracy: 0.7238 - val_loss: 0.6112 - val_accuracy: 0.6910\n",
            "Epoch 8/5000\n",
            "6219/6219 [==============================] - 22s 4ms/step - loss: 0.5500 - accuracy: 0.7254 - val_loss: 0.6150 - val_accuracy: 0.6787\n",
            "Epoch 9/5000\n",
            "6219/6219 [==============================] - 24s 4ms/step - loss: 0.5495 - accuracy: 0.7248 - val_loss: 0.6164 - val_accuracy: 0.6757\n",
            "Epoch 10/5000\n",
            "6219/6219 [==============================] - 20s 3ms/step - loss: 0.5487 - accuracy: 0.7255 - val_loss: 0.6234 - val_accuracy: 0.6870\n",
            "Epoch 11/5000\n",
            "6219/6219 [==============================] - 20s 3ms/step - loss: 0.5468 - accuracy: 0.7264 - val_loss: 0.6171 - val_accuracy: 0.6814\n",
            "Epoch 12/5000\n",
            "6219/6219 [==============================] - 25s 4ms/step - loss: 0.5470 - accuracy: 0.7279 - val_loss: 0.6178 - val_accuracy: 0.6884\n",
            "Epoch 13/5000\n",
            "6219/6219 [==============================] - 20s 3ms/step - loss: 0.5451 - accuracy: 0.7285 - val_loss: 0.6136 - val_accuracy: 0.6913\n",
            "Epoch 14/5000\n",
            "6219/6219 [==============================] - 21s 3ms/step - loss: 0.5456 - accuracy: 0.7276 - val_loss: 0.6313 - val_accuracy: 0.6888\n",
            "Epoch 15/5000\n",
            "6219/6219 [==============================] - 20s 3ms/step - loss: 0.5474 - accuracy: 0.7263 - val_loss: 0.6254 - val_accuracy: 0.6702\n",
            "Epoch 16/5000\n",
            "6219/6219 [==============================] - 18s 3ms/step - loss: 0.5465 - accuracy: 0.7261 - val_loss: 0.6312 - val_accuracy: 0.6744\n",
            "Epoch 17/5000\n",
            "6219/6219 [==============================] - 18s 3ms/step - loss: 0.5449 - accuracy: 0.7269 - val_loss: 0.6351 - val_accuracy: 0.6704\n",
            "Epoch 18/5000\n",
            "6219/6219 [==============================] - 20s 3ms/step - loss: 0.5449 - accuracy: 0.7274 - val_loss: 0.6542 - val_accuracy: 0.6810\n",
            "Epoch 19/5000\n",
            "6219/6219 [==============================] - 18s 3ms/step - loss: 0.5440 - accuracy: 0.7285 - val_loss: 0.6439 - val_accuracy: 0.6827\n",
            "Epoch 20/5000\n",
            "6219/6219 [==============================] - 20s 3ms/step - loss: 0.5439 - accuracy: 0.7283 - val_loss: 0.6181 - val_accuracy: 0.6778\n",
            "Epoch 21/5000\n",
            "6219/6219 [==============================] - 20s 3ms/step - loss: 0.5441 - accuracy: 0.7274 - val_loss: 0.6288 - val_accuracy: 0.6889\n",
            "Epoch 22/5000\n",
            "6219/6219 [==============================] - 20s 3ms/step - loss: 0.5471 - accuracy: 0.7244 - val_loss: 0.6199 - val_accuracy: 0.6849\n",
            "Epoch 23/5000\n",
            "6219/6219 [==============================] - 20s 3ms/step - loss: 0.5475 - accuracy: 0.7244 - val_loss: 0.6292 - val_accuracy: 0.6777\n",
            "Epoch 24/5000\n",
            "6219/6219 [==============================] - 18s 3ms/step - loss: 0.5479 - accuracy: 0.7247 - val_loss: 0.6296 - val_accuracy: 0.6767\n",
            "Epoch 25/5000\n",
            "6219/6219 [==============================] - 22s 4ms/step - loss: 0.5467 - accuracy: 0.7260 - val_loss: 0.6363 - val_accuracy: 0.6917\n",
            "Epoch 26/5000\n",
            "6219/6219 [==============================] - 18s 3ms/step - loss: 0.5467 - accuracy: 0.7257 - val_loss: 0.6367 - val_accuracy: 0.6697\n",
            "Epoch 27/5000\n",
            "6219/6219 [==============================] - 20s 3ms/step - loss: 0.5459 - accuracy: 0.7265 - val_loss: 0.6339 - val_accuracy: 0.6825\n",
            "Epoch 27: early stopping\n"
          ]
        }
      ]
    },
    {
      "cell_type": "code",
      "source": [
        "#Evaluate the model\n",
        "print('Training loss and Accuracy:',model1.evaluate(X_train1,Y_train1))\n",
        "print('Testing loss and Accuracy:',model1.evaluate(X_test1,Y_test1))"
      ],
      "metadata": {
        "colab": {
          "base_uri": "https://localhost:8080/"
        },
        "id": "DVATAK5qMzC0",
        "outputId": "1b6e27ec-d3d0-4d05-8425-7a89e7ddecb2"
      },
      "execution_count": 64,
      "outputs": [
        {
          "output_type": "stream",
          "name": "stdout",
          "text": [
            "12438/12438 [==============================] - 19s 2ms/step - loss: 0.5212 - accuracy: 0.7480\n",
            "Training loss and Accuracy: [0.5212175846099854, 0.7480340003967285]\n",
            "5332/5332 [==============================] - 8s 2ms/step - loss: 0.6339 - accuracy: 0.6825\n",
            "Testing loss and Accuracy: [0.6339290142059326, 0.6824623942375183]\n"
          ]
        }
      ]
    },
    {
      "cell_type": "code",
      "source": [
        "#visualisation for loss of training and testing\n",
        "plt.plot(trained_model1.history['loss'],label='Training Loss')\n",
        "plt.plot(trained_model1.history['val_loss'],label='Testing Loss')\n",
        "plt.xlabel('Epochs')\n",
        "plt.ylabel('Binary crossentropy Error')\n",
        "plt.legend()\n",
        "plt.show()"
      ],
      "metadata": {
        "colab": {
          "base_uri": "https://localhost:8080/",
          "height": 279
        },
        "id": "g832ndMdNOMe",
        "outputId": "7f3d6eb6-66c4-4449-a1c8-02bbd709e272"
      },
      "execution_count": 65,
      "outputs": [
        {
          "output_type": "display_data",
          "data": {
            "text/plain": [
              "<Figure size 432x288 with 1 Axes>"
            ],
            "image/png": "[encoded data removed]"
          },
          "metadata": {
            "needs_background": "light"
          }
        }
      ]
    },
    {
      "cell_type": "code",
      "source": [
        "#visualisation for accuracy of training and testing\n",
        "plt.plot(trained_model1.history['accuracy'],label='Training Loss')\n",
        "plt.plot(trained_model1.history['val_accuracy'],label='Testing Loss')\n",
        "plt.xlabel('Epochs')\n",
        "plt.ylabel('Accuracy')\n",
        "plt.legend()\n",
        "plt.show()"
      ],
      "metadata": {
        "colab": {
          "base_uri": "https://localhost:8080/",
          "height": 279
        },
        "id": "9pnp6z9UNOPh",
        "outputId": "37c3bdd9-0dd5-4e37-d090-4d3881142151"
      },
      "execution_count": 66,
      "outputs": [
        {
          "output_type": "display_data",
          "data": {
            "text/plain": [
              "<Figure size 432x288 with 1 Axes>"
            ],
            "image/png": "[encoded data removed]"
          },
          "metadata": {
            "needs_background": "light"
          }
        }
      ]
    },
    {
      "cell_type": "code",
      "source": [
        "#here we see that training score > testting score \n",
        "#Clearly the model is overfit\n",
        "#use second  method to handle overfitting, that is regularisation l2\n",
        "#create neaural network \n",
        "from tensorflow.keras import regularizers\n",
        "#create object of Sequential class\n",
        "model2=tf.keras.Sequential([\n",
        "    #first hidden layer \n",
        "    tf.keras.layers.Dense(units=64,activation='relu',\n",
        "                          kernel_regularizer=regularizers.l2(0.01),input_shape=(X.shape[1],)),Dropout(0.30),\n",
        "    #second hidden layer\n",
        "    tf.keras.layers.Dense(units=32,activation='relu',kernel_regularizer=regularizers.l2(0.01)),Dropout(0.30),\n",
        "    #Third hidden layer\n",
        "    tf.keras.layers.Dense(units=16,activation='relu',kernel_regularizer=regularizers.l2(0.01)),Dropout(0.30),\n",
        "    #fourth hidden layer\n",
        "    tf.keras.layers.Dense(units=8,activation='relu',kernel_regularizer=regularizers.l2(0.01)),\n",
        "    #output layer \n",
        "    tf.keras.layers.Dense(units=1,activation='sigmoid',kernel_regularizer=regularizers.l2(0.01))\n",
        "])"
      ],
      "metadata": {
        "id": "gh-bfHUdNOSN"
      },
      "execution_count": 67,
      "outputs": []
    },
    {
      "cell_type": "code",
      "source": [
        "#compile the model\n",
        "model2.compile(optimizer='adam',loss='binary_crossentropy',metrics=['accuracy'])"
      ],
      "metadata": {
        "id": "eqjhIWjxNOU1"
      },
      "execution_count": 68,
      "outputs": []
    },
    {
      "cell_type": "code",
      "source": [
        "#train the model with 70% data\n",
        "trained_model2=model2.fit(X_train1,Y_train1,epochs=5000,validation_data=(X_test1,Y_test1),batch_size=64,callbacks=cb)"
      ],
      "metadata": {
        "colab": {
          "base_uri": "https://localhost:8080/"
        },
        "id": "SdbbDll2NOX6",
        "outputId": "953aa43a-e36f-4396-f4d2-872d78fa7e0f"
      },
      "execution_count": 69,
      "outputs": [
        {
          "output_type": "stream",
          "name": "stdout",
          "text": [
            "Epoch 1/5000\n",
            "6219/6219 [==============================] - 27s 4ms/step - loss: 0.7064 - accuracy: 0.5023 - val_loss: 0.6932 - val_accuracy: 0.5000\n",
            "Epoch 2/5000\n",
            "6219/6219 [==============================] - 20s 3ms/step - loss: 0.6932 - accuracy: 0.5002 - val_loss: 0.6931 - val_accuracy: 0.5000\n",
            "Epoch 3/5000\n",
            "6219/6219 [==============================] - 21s 3ms/step - loss: 0.6932 - accuracy: 0.4996 - val_loss: 0.6932 - val_accuracy: 0.5000\n",
            "Epoch 4/5000\n",
            "6219/6219 [==============================] - 21s 3ms/step - loss: 0.6932 - accuracy: 0.4998 - val_loss: 0.6932 - val_accuracy: 0.5000\n",
            "Epoch 5/5000\n",
            "6219/6219 [==============================] - 19s 3ms/step - loss: 0.6932 - accuracy: 0.5004 - val_loss: 0.6932 - val_accuracy: 0.5000\n",
            "Epoch 6/5000\n",
            "6219/6219 [==============================] - 24s 4ms/step - loss: 0.6932 - accuracy: 0.5008 - val_loss: 0.6932 - val_accuracy: 0.5000\n",
            "Epoch 7/5000\n",
            "6219/6219 [==============================] - 19s 3ms/step - loss: 0.6932 - accuracy: 0.5000 - val_loss: 0.6931 - val_accuracy: 0.5000\n",
            "Epoch 8/5000\n",
            "6219/6219 [==============================] - 19s 3ms/step - loss: 0.6932 - accuracy: 0.5011 - val_loss: 0.6932 - val_accuracy: 0.5000\n",
            "Epoch 9/5000\n",
            "6219/6219 [==============================] - 19s 3ms/step - loss: 0.6932 - accuracy: 0.4999 - val_loss: 0.6932 - val_accuracy: 0.5000\n",
            "Epoch 10/5000\n",
            "6219/6219 [==============================] - 19s 3ms/step - loss: 0.6932 - accuracy: 0.4993 - val_loss: 0.6931 - val_accuracy: 0.5000\n",
            "Epoch 11/5000\n",
            "6219/6219 [==============================] - 20s 3ms/step - loss: 0.6932 - accuracy: 0.5004 - val_loss: 0.6932 - val_accuracy: 0.5000\n",
            "Epoch 12/5000\n",
            "6219/6219 [==============================] - 21s 3ms/step - loss: 0.6932 - accuracy: 0.5009 - val_loss: 0.6932 - val_accuracy: 0.5000\n",
            "Epoch 13/5000\n",
            "6219/6219 [==============================] - 19s 3ms/step - loss: 0.6932 - accuracy: 0.4982 - val_loss: 0.6932 - val_accuracy: 0.5000\n",
            "Epoch 14/5000\n",
            "6219/6219 [==============================] - 21s 3ms/step - loss: 0.6932 - accuracy: 0.5001 - val_loss: 0.6932 - val_accuracy: 0.5000\n",
            "Epoch 15/5000\n",
            "6219/6219 [==============================] - 22s 4ms/step - loss: 0.6932 - accuracy: 0.4997 - val_loss: 0.6931 - val_accuracy: 0.5000\n",
            "Epoch 16/5000\n",
            "6219/6219 [==============================] - 19s 3ms/step - loss: 0.6932 - accuracy: 0.5002 - val_loss: 0.6932 - val_accuracy: 0.5000\n",
            "Epoch 17/5000\n",
            "6219/6219 [==============================] - 21s 3ms/step - loss: 0.6932 - accuracy: 0.4977 - val_loss: 0.6932 - val_accuracy: 0.5000\n",
            "Epoch 18/5000\n",
            "6219/6219 [==============================] - 21s 3ms/step - loss: 0.6932 - accuracy: 0.4993 - val_loss: 0.6931 - val_accuracy: 0.5000\n",
            "Epoch 19/5000\n",
            "6219/6219 [==============================] - 28s 4ms/step - loss: 0.6932 - accuracy: 0.4997 - val_loss: 0.6931 - val_accuracy: 0.5000\n",
            "Epoch 20/5000\n",
            "6219/6219 [==============================] - 19s 3ms/step - loss: 0.6932 - accuracy: 0.4991 - val_loss: 0.6932 - val_accuracy: 0.5000\n",
            "Epoch 21/5000\n",
            "6219/6219 [==============================] - 21s 3ms/step - loss: 0.6932 - accuracy: 0.5000 - val_loss: 0.6931 - val_accuracy: 0.5000\n",
            "Epoch 22/5000\n",
            "6219/6219 [==============================] - 19s 3ms/step - loss: 0.6932 - accuracy: 0.5017 - val_loss: 0.6932 - val_accuracy: 0.5000\n",
            "Epoch 22: early stopping\n"
          ]
        }
      ]
    },
    {
      "cell_type": "code",
      "source": [
        "#Evaluate the model\n",
        "print('Training loss and Accuracy:',model2.evaluate(X_train1,Y_train1))\n",
        "print('Testing loss and Accuracy:',model2.evaluate(X_test1,Y_test1))\n",
        "#testing score and training score are same\n",
        "#but score can be better"
      ],
      "metadata": {
        "colab": {
          "base_uri": "https://localhost:8080/"
        },
        "id": "o47jeA8ONh7O",
        "outputId": "bb49ccf8-caf7-479b-f96e-652b5ae3bc68"
      },
      "execution_count": 70,
      "outputs": [
        {
          "output_type": "stream",
          "name": "stdout",
          "text": [
            "12438/12438 [==============================] - 20s 2ms/step - loss: 0.6932 - accuracy: 0.5000\n",
            "Training loss and Accuracy: [0.6932011246681213, 0.5]\n",
            "5332/5332 [==============================] - 9s 2ms/step - loss: 0.6932 - accuracy: 0.5000\n",
            "Testing loss and Accuracy: [0.6931778788566589, 0.5]\n"
          ]
        }
      ]
    },
    {
      "cell_type": "code",
      "source": [
        "#visualisation for loss of training and testing\n",
        "plt.plot(trained_model2.history['loss'],label='Training Loss')\n",
        "plt.plot(trained_model2.history['val_loss'],label='Testing Loss')\n",
        "plt.xlabel('Epochs')\n",
        "plt.ylabel('Binary crossentropy Error')\n",
        "plt.legend()\n",
        "plt.show()"
      ],
      "metadata": {
        "colab": {
          "base_uri": "https://localhost:8080/",
          "height": 279
        },
        "id": "ZeqPvvQqNh-E",
        "outputId": "7d244375-31c2-497b-c5cd-4550d16c06b5"
      },
      "execution_count": 71,
      "outputs": [
        {
          "output_type": "display_data",
          "data": {
            "text/plain": [
              "<Figure size 432x288 with 1 Axes>"
            ],
            "image/png": "[encoded data removed]"
          },
          "metadata": {
            "needs_background": "light"
          }
        }
      ]
    },
    {
      "cell_type": "code",
      "source": [
        "#visualisation for accuracy of training and testing\n",
        "plt.plot(trained_model2.history['accuracy'],label='Training Loss')\n",
        "plt.plot(trained_model2.history['val_accuracy'],label='Testing Loss')\n",
        "plt.xlabel('Epochs')\n",
        "plt.ylabel('Accuracy')\n",
        "plt.legend()\n",
        "plt.show()"
      ],
      "metadata": {
        "colab": {
          "base_uri": "https://localhost:8080/",
          "height": 279
        },
        "id": "2cnPsP87NiAz",
        "outputId": "5c1a40d2-5d21-4e32-a885-23087da15f3d"
      },
      "execution_count": 72,
      "outputs": [
        {
          "output_type": "display_data",
          "data": {
            "text/plain": [
              "<Figure size 432x288 with 1 Axes>"
            ],
            "image/png": "[encoded data removed]"
          },
          "metadata": {
            "needs_background": "light"
          }
        }
      ]
    },
    {
      "cell_type": "code",
      "source": [
        "#Test the model with 30% data\n",
        "Y_pred=model1.predict(X_test1).round(2)"
      ],
      "metadata": {
        "colab": {
          "base_uri": "https://localhost:8080/"
        },
        "id": "W8n26tm_NiDj",
        "outputId": "d8f1a8db-179f-46b7-a0b0-f35faee778ae"
      },
      "execution_count": 73,
      "outputs": [
        {
          "output_type": "stream",
          "name": "stdout",
          "text": [
            "5332/5332 [==============================] - 7s 1ms/step\n"
          ]
        }
      ]
    },
    {
      "cell_type": "code",
      "source": [
        "Y_pred=np.where(Y_pred>=0.5,1,0)\n",
        "Y_pred"
      ],
      "metadata": {
        "colab": {
          "base_uri": "https://localhost:8080/"
        },
        "id": "_oQPIE2eSk7t",
        "outputId": "be263918-7245-427a-a7d6-9d2948837b60"
      },
      "execution_count": 74,
      "outputs": [
        {
          "output_type": "execute_result",
          "data": {
            "text/plain": [
              "array([[0],\n",
              "       [0],\n",
              "       [0],\n",
              "       ...,\n",
              "       [1],\n",
              "       [1],\n",
              "       [1]])"
            ]
          },
          "metadata": {},
          "execution_count": 74
        }
      ]
    },
    {
      "cell_type": "code",
      "source": [
        "#generate classification report \n",
        "from sklearn.metrics import classification_report,confusion_matrix\n",
        "print(classification_report(Y_test1,Y_pred))\n",
        "print(confusion_matrix(Y_test1,Y_pred))"
      ],
      "metadata": {
        "colab": {
          "base_uri": "https://localhost:8080/"
        },
        "id": "XZ3m71d9NiGc",
        "outputId": "89eeccb5-fad1-4abf-f517-74d68c53c97c"
      },
      "execution_count": 75,
      "outputs": [
        {
          "output_type": "stream",
          "name": "stdout",
          "text": [
            "              precision    recall  f1-score   support\n",
            "\n",
            "           0       0.65      0.79      0.71     85308\n",
            "           1       0.73      0.58      0.64     85308\n",
            "\n",
            "    accuracy                           0.68    170616\n",
            "   macro avg       0.69      0.68      0.68    170616\n",
            "weighted avg       0.69      0.68      0.68    170616\n",
            "\n",
            "[[67235 18073]\n",
            " [36214 49094]]\n"
          ]
        }
      ]
    },
    {
      "cell_type": "code",
      "source": [],
      "metadata": {
        "id": "Yw-hLdSGNiIk"
      },
      "execution_count": null,
      "outputs": []
    }
  ]
}